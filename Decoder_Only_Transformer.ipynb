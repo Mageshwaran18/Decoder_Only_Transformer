{
 "cells": [
  {
   "cell_type": "code",
   "execution_count": 2,
   "metadata": {},
   "outputs": [],
   "source": [
    "import pip\n",
    "try:\n",
    "  __import__(\"lightning\")\n",
    "except ImportError:\n",
    "  pip.main(['install', \"lightning\"])  \n",
    "\n",
    "import torch \n",
    "import torch.nn as nn ## torch.nn gives us nn.Module(), nn.Embedding() and nn.Linear()\n",
    "import torch.nn.functional as F # This gives us the softmax() and argmax()\n",
    "from torch.optim import Adam ## We will use the Adam optimizer, which is, essentially, a slightly less stochastic version of stochastic gradient descent.\n",
    "from torch.utils.data import TensorDataset, DataLoader ## We'll store our data in DataLoaders\n",
    "\n",
    "import lightning as L ## Lightning makes it easier to write, optimize and scale our code"
   ]
  },
  {
   "cell_type": "markdown",
   "metadata": {},
   "source": [
    "'''  \n",
    "- Q: \"Who is the King of Cricket?\" → A: \"ViratKohli\"\n",
    "- Q: \"Who is the BigShow of Cricket?\" → A: \"MaxWell\"\n",
    "- Q: \"Who is the best test Captain in India?\" → A: \"ViratKohli\"\n",
    "- Q: \"Who is the Universe Boss?\" → A: \"Chris Gayle\"\n",
    "- Q: \"Who is the Alien in the Cricket Field?\" → A: \"ABdeVilliers\"\n",
    "- Q: \"Who is the 360 degree player in the Cricket ?\" → A: \"ABdeVilliers\"\n",
    "\n",
    "'''"
   ]
  },
  {
   "cell_type": "code",
   "execution_count": 3,
   "metadata": {},
   "outputs": [],
   "source": [
    "''' Creating the vocabulary and mapping that to an token id'''\n",
    "''' This is done because the nn.Embedding() takes tokein id as the input'''\n",
    "\n",
    "token_to_id = {\n",
    "    'who': 0,\n",
    "    'is': 1,\n",
    "    'the': 2,\n",
    "    'king': 3,\n",
    "    'of': 4,\n",
    "    'cricket': 5,\n",
    "    'bigshow': 6,\n",
    "    'best': 7,\n",
    "    'test': 8,\n",
    "    'captain': 9,\n",
    "    'in': 10,\n",
    "    'india': 11,\n",
    "    'universe': 12,\n",
    "    'boss': 13,\n",
    "    'alien': 14,\n",
    "    'field': 15,\n",
    "    '360': 16,\n",
    "    'degree': 17,\n",
    "    'player': 18,\n",
    "    'viratkohli': 19,\n",
    "    'maxwell': 20,\n",
    "    'chris': 21,\n",
    "    'gayle': 22,\n",
    "    'abdevilliers': 23,\n",
    "    '<EOS>': 24  # End of sequence token\n",
    "}\n"
   ]
  },
  {
   "cell_type": "code",
   "execution_count": 17,
   "metadata": {},
   "outputs": [],
   "source": [
    "''' Make the id as the key and token as the value '''\n",
    "\n",
    "id_to_token = dict(map(reversed,token_to_id.items()))\n"
   ]
  },
  {
   "cell_type": "code",
   "execution_count": 18,
   "metadata": {},
   "outputs": [
    {
     "data": {
      "text/plain": [
       "{0: 'who',\n",
       " 1: 'is',\n",
       " 2: 'the',\n",
       " 3: 'king',\n",
       " 4: 'of',\n",
       " 5: 'cricket',\n",
       " 6: 'bigshow',\n",
       " 7: 'best',\n",
       " 8: 'test',\n",
       " 9: 'captain',\n",
       " 10: 'in',\n",
       " 11: 'india',\n",
       " 12: 'universe',\n",
       " 13: 'boss',\n",
       " 14: 'alien',\n",
       " 15: 'field',\n",
       " 16: '360',\n",
       " 17: 'degree',\n",
       " 18: 'player',\n",
       " 19: 'viratkohli',\n",
       " 20: 'maxwell',\n",
       " 21: 'chris',\n",
       " 22: 'gayle',\n",
       " 23: 'abdevilliers',\n",
       " 24: '<EOS>'}"
      ]
     },
     "execution_count": 18,
     "metadata": {},
     "output_type": "execute_result"
    }
   ],
   "source": [
    "id_to_token"
   ]
  }
 ],
 "metadata": {
  "kernelspec": {
   "display_name": "GenAi_LLM",
   "language": "python",
   "name": "python3"
  },
  "language_info": {
   "codemirror_mode": {
    "name": "ipython",
    "version": 3
   },
   "file_extension": ".py",
   "mimetype": "text/x-python",
   "name": "python",
   "nbconvert_exporter": "python",
   "pygments_lexer": "ipython3",
   "version": "3.8.20"
  }
 },
 "nbformat": 4,
 "nbformat_minor": 2
}
